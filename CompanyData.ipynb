{
  "cells": [
    {
      "cell_type": "markdown",
      "metadata": {
        "id": "SbAjZxdBs-A2"
      },
      "source": [
        "## Libraries Import\n"
      ]
    },
    {
      "cell_type": "code",
      "execution_count": 49,
      "metadata": {},
      "outputs": [],
      "source": [
        "# !pip install pandas numpy matplotlib"
      ]
    },
    {
      "cell_type": "code",
      "execution_count": 50,
      "metadata": {},
      "outputs": [],
      "source": [
        "# !pip install requests"
      ]
    },
    {
      "cell_type": "code",
      "execution_count": 51,
      "metadata": {
        "id": "Cymp_8FDs6Lf"
      },
      "outputs": [],
      "source": [
        "import pandas as pd\n",
        "import requests\n",
        "import numpy as np\n",
        "import base64\n",
        "from datetime import datetime\n",
        "import matplotlib.pyplot as plt\n",
        "import os"
      ]
    },
    {
      "cell_type": "code",
      "execution_count": 52,
      "metadata": {},
      "outputs": [],
      "source": [
        "os.environ['API_KEY'] = 'your api key'"
      ]
    },
    {
      "cell_type": "code",
      "execution_count": 53,
      "metadata": {
        "id": "dXaAMQ6OtG7c"
      },
      "outputs": [],
      "source": [
        "api_url = 'https://api.company-information.service.gov.uk/company/'\n",
        "API_KEY = os.getenv('API_KEY')"
      ]
    },
    {
      "cell_type": "code",
      "execution_count": 54,
      "metadata": {
        "id": "2dR1C6DltLMB"
      },
      "outputs": [],
      "source": [
        "def get_company_details(company_number):\n",
        "  response = requests.get(\n",
        "                f'https://api.company-information.service.gov.uk/company/{company_number}',\n",
        "                auth=(API_KEY , \"\")\n",
        "             )\n",
        "  return response.json()\n",
        "\n",
        "\n",
        "def get_company_number(params):\n",
        "  response = requests.get(\n",
        "      f'https://api.company-information.service.gov.uk/advanced-search/companies',\n",
        "      auth=(API_KEY , \"\"),\n",
        "      params = params\n",
        "  )\n",
        "  return response.json()\n",
        "\n",
        "\n",
        "def get_company_location(company_number):\n",
        "  response = requests.get(\n",
        "      f'https://api.company-information.service.gov.uk/company/{company_number}/registered-office-address',\n",
        "      auth=(API_KEY , \"\"),\n",
        "  )\n",
        "  return response.json()\n",
        "\n"
      ]
    },
    {
      "cell_type": "code",
      "execution_count": 55,
      "metadata": {
        "id": "O9-j0OWqyTxn"
      },
      "outputs": [],
      "source": [
        "def safe_set(df, index, column, value):\n",
        "    if value not in [None, '', {}, []]:\n",
        "        df.loc[index, column] = value"
      ]
    },
    {
      "cell_type": "markdown",
      "metadata": {
        "id": "wbDYIXMjtzGO"
      },
      "source": [
        "## Reading company data"
      ]
    },
    {
      "cell_type": "code",
      "execution_count": 56,
      "metadata": {
        "id": "Gu9rw8_stp-1"
      },
      "outputs": [],
      "source": [
        "company_data = pd.read_csv('~/Downloads/Company.csv', dtype={'CompanyNumber': str})\n",
        "#removing extra space from columns\n",
        "company_data.columns = company_data.columns.str.strip()"
      ]
    },
    {
      "cell_type": "code",
      "execution_count": 57,
      "metadata": {
        "colab": {
          "base_uri": "https://localhost:8080/"
        },
        "id": "giu76kdVt7Dj",
        "outputId": "613ab7a2-9920-4712-e744-4604a96e8362"
      },
      "outputs": [
        {
          "data": {
            "text/plain": [
              "Index(['CompanyName', 'CompanyNumber', 'RegAddress.CareOf', 'RegAddress.POBox',\n",
              "       'RegAddress.AddressLine1', 'RegAddress.AddressLine2',\n",
              "       'RegAddress.PostTown', 'RegAddress.County', 'RegAddress.Country',\n",
              "       'RegAddress.PostCode', 'CompanyCategory', 'CompanyStatus',\n",
              "       'CountryOfOrigin', 'DissolutionDate', 'IncorporationDate',\n",
              "       'Accounts.AccountRefDay', 'Accounts.AccountRefMonth',\n",
              "       'Accounts.NextDueDate', 'Accounts.LastMadeUpDate',\n",
              "       'Accounts.AccountCategory', 'Returns.NextDueDate',\n",
              "       'Returns.LastMadeUpDate', 'Mortgages.NumMortCharges',\n",
              "       'Mortgages.NumMortOutstanding', 'Mortgages.NumMortPartSatisfied',\n",
              "       'Mortgages.NumMortSatisfied', 'SICCode.SicText_1', 'SICCode.SicText_2',\n",
              "       'SICCode.SicText_3', 'SICCode.SicText_4',\n",
              "       'LimitedPartnerships.NumGenPartners',\n",
              "       'LimitedPartnerships.NumLimPartners', 'URI', 'PreviousName_1.CONDATE',\n",
              "       'PreviousName_1.CompanyName', 'PreviousName_2.CONDATE',\n",
              "       'PreviousName_2.CompanyName', 'PreviousName_3.CONDATE',\n",
              "       'PreviousName_3.CompanyName', 'PreviousName_4.CONDATE',\n",
              "       'PreviousName_4.CompanyName', 'PreviousName_5.CONDATE',\n",
              "       'PreviousName_5.CompanyName', 'PreviousName_6.CONDATE',\n",
              "       'PreviousName_6.CompanyName', 'PreviousName_7.CONDATE',\n",
              "       'PreviousName_7.CompanyName', 'PreviousName_8.CONDATE',\n",
              "       'PreviousName_8.CompanyName', 'PreviousName_9.CONDATE',\n",
              "       'PreviousName_9.CompanyName', 'PreviousName_10.CONDATE',\n",
              "       'PreviousName_10.CompanyName', 'ConfStmtNextDueDate',\n",
              "       'ConfStmtLastMadeUpDate'],\n",
              "      dtype='object')"
            ]
          },
          "execution_count": 57,
          "metadata": {},
          "output_type": "execute_result"
        }
      ],
      "source": [
        "company_data.columns"
      ]
    },
    {
      "cell_type": "markdown",
      "metadata": {
        "id": "EMagvJWyuMia"
      },
      "source": [
        "##  Data Profiling"
      ]
    },
    {
      "cell_type": "code",
      "execution_count": 58,
      "metadata": {
        "colab": {
          "base_uri": "https://localhost:8080/"
        },
        "id": "4LbzNiiI57tm",
        "outputId": "932a2d04-05e7-4247-98ba-9ce0e8ee27ba"
      },
      "outputs": [
        {
          "data": {
            "text/plain": [
              "array(['BRENTWOOD', 'BASINGSTOKE', nan, 'SURREY', 'SOUTHAMPTON',\n",
              "       'LOUND LOWESTOFT', 'HYDE', 'BUCKINGHAM', 'DUNMOW', 'LOWESTOFT',\n",
              "       'United Kingdom', 'hornchurch', 'bilston', 'cosham', 'greenford',\n",
              "       'melton mowbray', 'newcastle upon tyne', 'bicester',\n",
              "       'much wenlock', 'southport', 'herne bay', 'leeds', 'thurnscoe',\n",
              "       'BLACKPOOL', 'NEWCASTLE UPON TYNE', 'ALFRETON', 'RAMSGATE',\n",
              "       'CHELTENHAM', 'CAMBRIDGE', 'HEREFORD', 'HESKIN', 'WARWICK',\n",
              "       'GRANGEMOUTH', 'BIRKENSHAW', 'MIDHURST', 'RAYLEIGH',\n",
              "       'NEWTON-LE-WILLOWS', 'NUNEATON', 'BANBURY', 'MAIDSTONE', 'BOSTON',\n",
              "       'BRADFORD', 'MUCH WENLOCK', 'ST. HELENS', 'READING', 'SMETHWICK',\n",
              "       'WIGAN', 'STONEHOUSE', 'HIGH WYCOMBE', 'SOLIHULL', 'LEEDS',\n",
              "       'MARKET HARBOROUGH', 'YORK', 'KINGS LYNN', 'BRIGHTON', 'HERTFORD',\n",
              "       'EDINBURGH', 'BINGLEY', 'RUGELEY', 'WATFORD', 'CARMARTHEN',\n",
              "       'LIVERPOOL', 'NEWTOWNARDS', 'BRANSTON', 'BIRMINGHAM', 'REDHILL',\n",
              "       'DARTFORD', 'CHADWELL HEATH', 'ESSEX', 'UCKFIELD', 'PAIGNTON',\n",
              "       'NEWTON ABBOT', 'CAMBERLEY', 'FRINTON ON SEA', 'CREWE', 'NORWICH',\n",
              "       'DEREHAM', 'BEAUMARIS', 'BOLTON', 'BLACKBURN', 'BRACKLEY',\n",
              "       'PETERBOROUGH', 'LOUGHBOROUGH', 'ABINGDON', 'LOUGHTON',\n",
              "       'GIBRALTAR', 'WISBECH', 'NEWPORT', 'EGHAM', 'ASHFORD', 'SOUTHPORT',\n",
              "       'ADDLESTONE', 'WALTHAM ABBEY', 'TORQUAY', 'TAUNTON', 'CROWBOROUGH',\n",
              "       'EPSOM', 'BEXHILL', 'WOLVERHAMPTON', 'CARDIFF', 'DERBY', 'LEWES',\n",
              "       'LUDLOW', 'CUMNOCK', 'MALMESBURY', 'HARTLEY WINTNEY', 'WASHINGTON',\n",
              "       'LEIGHTON BUZZARD', 'MANCHESTER', 'CHEADLE', 'FARNBOROUGH',\n",
              "       'BALLYNAHINCH', 'BOGNOR REGIS', \"KING'S LYNN\", 'WINCHESTER',\n",
              "       'CWMBRAN', 'KEIGHLEY', 'SILSDEN', 'LONG EATON', 'DUNDEE',\n",
              "       'THORNTON HEATH', 'DOUGLAS', 'PRINCES RISBOROUGH', 'HASTINGS',\n",
              "       'NEWARK', 'HARROW', 'LEAMINGTON SPA', 'NOTTINGHAM', 'BRENTFORD',\n",
              "       'BELLSHILL', 'BICESTER', 'WASHINGTON DULLES INTERNATIONAL AIRPORT',\n",
              "       'SLOUGH', 'SOUTHEND ON SEA', 'MACCLESFIELD', 'WEST BROMWICH',\n",
              "       'WHITSTABLE', 'GLASGOW', 'ECCLES', 'OUNDLE', 'HOUNSLOW',\n",
              "       'LEICESTERSHIRE', 'DORKING', 'WELLING', 'COVENTRY', 'HAYES',\n",
              "       'MILTON KEYNES', 'PRESTON', 'LEICESTER', 'TUNBRIDGE WELLS',\n",
              "       'HEATHROW', 'DAGENHAM', 'RUISLIP,', 'BEDFORD', 'PEMBROKE DOCK',\n",
              "       'SHEFFIELD', 'REIGATE', 'MORECAMBE', 'ROMSEY', 'DARTMOUTH',\n",
              "       'REDDITCH', 'HORNCHURCH', 'INVERNESS', 'SALTASH', 'DELAWARE',\n",
              "       'EXETER', 'WALSALL', 'LANARK', 'COLCHESTER'], dtype=object)"
            ]
          },
          "execution_count": 58,
          "metadata": {},
          "output_type": "execute_result"
        }
      ],
      "source": [
        "company_data['RegAddress.PostTown'].unique()"
      ]
    },
    {
      "cell_type": "code",
      "execution_count": 59,
      "metadata": {
        "colab": {
          "base_uri": "https://localhost:8080/"
        },
        "id": "aElSfsHxt7tn",
        "outputId": "89bad4fc-1750-4ce2-e149-15e3f52294f6"
      },
      "outputs": [
        {
          "name": "stdout",
          "output_type": "stream",
          "text": [
            "<class 'pandas.core.frame.DataFrame'>\n",
            "RangeIndex: 307 entries, 0 to 306\n",
            "Data columns (total 55 columns):\n",
            " #   Column                              Non-Null Count  Dtype  \n",
            "---  ------                              --------------  -----  \n",
            " 0   CompanyName                         307 non-null    object \n",
            " 1   CompanyNumber                       306 non-null    object \n",
            " 2   RegAddress.CareOf                   2 non-null      object \n",
            " 3   RegAddress.POBox                    5 non-null      object \n",
            " 4   RegAddress.AddressLine1             307 non-null    object \n",
            " 5   RegAddress.AddressLine2             191 non-null    object \n",
            " 6   RegAddress.PostTown                 254 non-null    object \n",
            " 7   RegAddress.County                   108 non-null    object \n",
            " 8   RegAddress.Country                  248 non-null    object \n",
            " 9   RegAddress.PostCode                 304 non-null    object \n",
            " 10  CompanyCategory                     306 non-null    object \n",
            " 11  CompanyStatus                       306 non-null    object \n",
            " 12  CountryOfOrigin                     305 non-null    object \n",
            " 13  DissolutionDate                     2 non-null      object \n",
            " 14  IncorporationDate                   305 non-null    object \n",
            " 15  Accounts.AccountRefDay              301 non-null    float64\n",
            " 16  Accounts.AccountRefMonth            302 non-null    object \n",
            " 17  Accounts.NextDueDate                300 non-null    object \n",
            " 18  Accounts.LastMadeUpDate             222 non-null    object \n",
            " 19  Accounts.AccountCategory            306 non-null    object \n",
            " 20  Returns.NextDueDate                 299 non-null    object \n",
            " 21  Returns.LastMadeUpDate              101 non-null    object \n",
            " 22  Mortgages.NumMortCharges            305 non-null    float64\n",
            " 23  Mortgages.NumMortOutstanding        305 non-null    float64\n",
            " 24  Mortgages.NumMortPartSatisfied      306 non-null    float64\n",
            " 25  Mortgages.NumMortSatisfied          306 non-null    object \n",
            " 26  SICCode.SicText_1                   305 non-null    object \n",
            " 27  SICCode.SicText_2                   47 non-null     object \n",
            " 28  SICCode.SicText_3                   22 non-null     object \n",
            " 29  SICCode.SicText_4                   13 non-null     object \n",
            " 30  LimitedPartnerships.NumGenPartners  305 non-null    object \n",
            " 31  LimitedPartnerships.NumLimPartners  304 non-null    float64\n",
            " 32  URI                                 304 non-null    object \n",
            " 33  PreviousName_1.CONDATE              30 non-null     object \n",
            " 34  PreviousName_1.CompanyName          30 non-null     object \n",
            " 35  PreviousName_2.CONDATE              9 non-null      object \n",
            " 36  PreviousName_2.CompanyName          9 non-null      object \n",
            " 37  PreviousName_3.CONDATE              0 non-null      float64\n",
            " 38  PreviousName_3.CompanyName          0 non-null      float64\n",
            " 39  PreviousName_4.CONDATE              0 non-null      float64\n",
            " 40  PreviousName_4.CompanyName          0 non-null      float64\n",
            " 41  PreviousName_5.CONDATE              0 non-null      float64\n",
            " 42  PreviousName_5.CompanyName          0 non-null      float64\n",
            " 43  PreviousName_6.CONDATE              0 non-null      float64\n",
            " 44  PreviousName_6.CompanyName          0 non-null      float64\n",
            " 45  PreviousName_7.CONDATE              0 non-null      float64\n",
            " 46  PreviousName_7.CompanyName          0 non-null      float64\n",
            " 47  PreviousName_8.CONDATE              1 non-null      object \n",
            " 48  PreviousName_8.CompanyName          0 non-null      float64\n",
            " 49  PreviousName_9.CONDATE              0 non-null      float64\n",
            " 50  PreviousName_9.CompanyName          0 non-null      float64\n",
            " 51  PreviousName_10.CONDATE             1 non-null      object \n",
            " 52  PreviousName_10.CompanyName         1 non-null      object \n",
            " 53  ConfStmtNextDueDate                 303 non-null    object \n",
            " 54  ConfStmtLastMadeUpDate              239 non-null    object \n",
            "dtypes: float64(18), object(37)\n",
            "memory usage: 132.0+ KB\n"
          ]
        }
      ],
      "source": [
        "company_data.info()"
      ]
    },
    {
      "cell_type": "code",
      "execution_count": 60,
      "metadata": {},
      "outputs": [],
      "source": [
        "company_data = company_data.astype(object)"
      ]
    },
    {
      "cell_type": "code",
      "execution_count": 61,
      "metadata": {
        "id": "6dC1FrMjuSjA"
      },
      "outputs": [],
      "source": [
        "company_data['CompanyNumberFromURI'] = company_data['URI'].str.split(\"/\").str[-1]\n",
        "company_data['CompanyNumber'] = company_data['CompanyNumberFromURI'].fillna(company_data['CompanyNumber'])"
      ]
    },
    {
      "cell_type": "code",
      "execution_count": 62,
      "metadata": {
        "colab": {
          "base_uri": "https://localhost:8080/",
          "height": 35
        },
        "id": "z1fD5gEFubct",
        "outputId": "38049056-0d2e-4fff-b434-8f39250c9cd0"
      },
      "outputs": [
        {
          "data": {
            "text/plain": [
              "'01477370'"
            ]
          },
          "execution_count": 62,
          "metadata": {},
          "output_type": "execute_result"
        }
      ],
      "source": [
        "#Finding companyNumber using postal_code from Company API\n",
        "postal_code = company_data[company_data['CompanyNumber'].isna()]['RegAddress.POBox']\n",
        "comapny_details = get_company_number({'location':postal_code})\n",
        "\n",
        "missing_company_number = comapny_details['top_hit']['company_number']\n",
        "missing_company_name = comapny_details['top_hit']['company_name']\n",
        "index = company_data[company_data['CompanyNumber'].isna()].index\n",
        "# company_data.loc[11, 'RegAddress.POBox'] = np.nan\n",
        "company_data.loc[index[0], 'CompanyNumber'] = missing_company_number\n",
        "company_data.loc[index[0], 'CompanyName'] = missing_company_name\n",
        "company_data.loc[index[0], 'RegAddress.POBox'] = np.nan\n",
        "company_data.loc[index[0], 'SICCode.SicText_1'] = np.nan\n",
        "\n",
        "\n",
        "company_data.loc[index[0]]['CompanyNumber']"
      ]
    },
    {
      "cell_type": "code",
      "execution_count": 63,
      "metadata": {
        "colab": {
          "base_uri": "https://localhost:8080/"
        },
        "id": "VuU08jpVub0B",
        "outputId": "16f58ad4-dd5e-453e-bce4-f8a2ff44c42b"
      },
      "outputs": [
        {
          "data": {
            "text/plain": [
              "array(['UNITED KINGDOM', nan, 'ENGLAND', '05/02/1980', 'england',\n",
              "       'united kingdom', 'SCOTLAND', 'NORTHERN IRELAND', 'GIBRALTAR',\n",
              "       'WALES', 'ISLE OF MAN', 'UNITED STATES', 'UK'], dtype=object)"
            ]
          },
          "execution_count": 63,
          "metadata": {},
          "output_type": "execute_result"
        }
      ],
      "source": [
        "company_data['RegAddress.Country'].unique()"
      ]
    },
    {
      "cell_type": "code",
      "execution_count": 64,
      "metadata": {
        "colab": {
          "base_uri": "https://localhost:8080/"
        },
        "id": "49uwDDZcvgJy",
        "outputId": "f7bc7b26-7130-4b5c-8287-6618e44f8974"
      },
      "outputs": [
        {
          "data": {
            "text/plain": [
              "array(['United Kingdom', nan, '31/05/1986', 'united kingdom', 'GIBRALTAR',\n",
              "       'ISLE OF MAN', 'UNITED STATES', 'UK'], dtype=object)"
            ]
          },
          "execution_count": 64,
          "metadata": {},
          "output_type": "execute_result"
        }
      ],
      "source": [
        "company_data['CountryOfOrigin'].unique()"
      ]
    },
    {
      "cell_type": "code",
      "execution_count": 65,
      "metadata": {
        "colab": {
          "base_uri": "https://localhost:8080/"
        },
        "id": "ej2Uy6oTxF31",
        "outputId": "ff686e58-f6fa-4add-d4f3-be9e5d996279"
      },
      "outputs": [
        {
          "data": {
            "text/plain": [
              "array([nan, 'HAMPSHIRE', 'SUFFOLK', 'hampshire', 'shropshire', 'kent',\n",
              "       'rotherham', 'LANCASHIRE', 'KENT', 'GLOUCESTERSHIRE',\n",
              "       'HEREFORDSHIRE', 'CHORLEY', 'WARWICKSHIRE', 'WEST YORKSHIRE',\n",
              "       'WEST SUSSEX', 'ESSEX', 'SHROPSHIRE', 'MERSEYSIDE',\n",
              "       'BUCKINGHAMSHIRE', 'WEST MIDLANDS', 'OXFORDSHIRE',\n",
              "       'LEICESTERSHIRE', 'NORFOLK', 'STAFFORDSHIRE', 'SURREY', 'DEVON',\n",
              "       'ISLE OF ANGLESEY', 'NORTHAMPTONSHIRE', 'ENGLAND', 'CAMBS',\n",
              "       'ISLE OF WIGHT', 'SOMERSET', 'EAST SUSSEX', 'TYNE AND WEAR',\n",
              "       'HERTFORDSHIRE', 'COUNTY DOWN', 'GWENT', 'NOTTINGHAM',\n",
              "       'NOTTINGHAMSHIRE', 'OXON', 'VIRGINIA VA20166', 'CHESHIRE',\n",
              "       'MANCHESTER', 'PETERBOROUGH', ',', 'DYFED', 'NORTH YORKSHIRE',\n",
              "       '19901', 'LANARKSHIRE'], dtype=object)"
            ]
          },
          "execution_count": 65,
          "metadata": {},
          "output_type": "execute_result"
        }
      ],
      "source": [
        "company_data['RegAddress.County'].unique()"
      ]
    },
    {
      "cell_type": "code",
      "execution_count": 66,
      "metadata": {
        "colab": {
          "base_uri": "https://localhost:8080/"
        },
        "id": "749bj3mrxV38",
        "outputId": "b0d7b989-0d4d-4641-acb8-4481f02e4dca"
      },
      "outputs": [
        {
          "data": {
            "text/plain": [
              "array(['NO ACCOUNTS FILED', 'TOTAL EXEMPTION FULL', 'MICRO ENTITY',\n",
              "       'DORMANT', nan, '0', 'total exemption full', 'no accounts filed',\n",
              "       'micro entity', 'small', 'dormant', 'full', 'SMALL',\n",
              "       'UNAUDITED ABRIDGED', 'FULL', 'TOTAL EXEMPTION SMALL',\n",
              "       'AUDIT EXEMPTION SUBSIDIARY', 'ACCOUNTS TYPE NOT AVAILABLE',\n",
              "       'GROUP', '10/06/3017'], dtype=object)"
            ]
          },
          "execution_count": 66,
          "metadata": {},
          "output_type": "execute_result"
        }
      ],
      "source": [
        "\n",
        "company_data['Accounts.AccountCategory'].unique()"
      ]
    },
    {
      "cell_type": "code",
      "execution_count": 67,
      "metadata": {
        "id": "GI6lzAUB42dM"
      },
      "outputs": [],
      "source": [
        "company_data['RegAddress.Country'] = company_data['RegAddress.Country'].replace('05/02/1980',np.nan)\n",
        "company_data['RegAddress.County'] = company_data['RegAddress.County'].replace('19901',np.nan)\n",
        "company_data['CountryOfOrigin'] = company_data['CountryOfOrigin'].replace('31/05/1986',np.nan)\n",
        "company_data['Accounts.AccountCategory'] = company_data['Accounts.AccountCategory'].replace('10/06/3017',np.nan)\n",
        "\n"
      ]
    },
    {
      "cell_type": "code",
      "execution_count": 68,
      "metadata": {
        "id": "abed_DkRvjhG"
      },
      "outputs": [],
      "source": [
        "# Replacing String name from Lower/Upper Case with TitleCase\n",
        "company_data['RegAddress.Country'] = company_data['RegAddress.Country'].str.title()\n",
        "company_data['CountryOfOrigin'] = company_data['CountryOfOrigin'].str.title()\n",
        "company_data['RegAddress.County'] = company_data['RegAddress.County'].str.title()\n",
        "company_data['RegAddress.PostTown'] = company_data['RegAddress.PostTown'].str.title()\n",
        "company_data['CompanyName'] = company_data['CompanyName'].str.title()\n",
        "company_data['Accounts.AccountCategory'] = company_data['Accounts.AccountCategory'].str.title()\n",
        "\n",
        "\n",
        "\n",
        "company_data['RegAddress.Country'] = company_data['RegAddress.Country'].replace('Uk', 'United Kingdom')\n",
        "company_data['CountryOfOrigin'] = company_data['CountryOfOrigin'].replace('Uk', 'United Kingdom')\n",
        "\n"
      ]
    },
    {
      "cell_type": "code",
      "execution_count": 69,
      "metadata": {
        "id": "4dFukeIdxTLp"
      },
      "outputs": [],
      "source": [
        "company_data['Accounts.AccountCategory'] = company_data['Accounts.AccountCategory'].replace('TOTAL EXEMPTION FULL','TOTAL-EXEMPTION-FULL')"
      ]
    },
    {
      "cell_type": "markdown",
      "metadata": {
        "id": "PKctTnNzx-4v"
      },
      "source": [
        "## Data Validation & Matching"
      ]
    },
    {
      "cell_type": "code",
      "execution_count": 70,
      "metadata": {
        "colab": {
          "base_uri": "https://localhost:8080/"
        },
        "id": "UicgGbh-voQX",
        "outputId": "b7953939-9b25-4436-811f-49f684e2c3b5"
      },
      "outputs": [
        {
          "name": "stdout",
          "output_type": "stream",
          "text": [
            "05883574 record not found\n"
          ]
        }
      ],
      "source": [
        "for index,company_number in enumerate(company_data.loc[:,'CompanyNumber']):\n",
        "  details = get_company_details(company_number)\n",
        "  if not details.get('message'):\n",
        "    # Mark record found\n",
        "      company_data.loc[index, 'record_found'] = True\n",
        "\n",
        "      addr = details.get('registered_office_address', {})\n",
        "      accounts = details.get('accounts', {})\n",
        "      last_accounts = accounts.get('last_accounts', {})\n",
        "      conf_stmt = details.get('confirmation_statement', {})\n",
        "      next_accounts = accounts.get('next_accounts', {})\n",
        "      links = details.get('links', {})\n",
        "\n",
        "      safe_set(company_data, index, 'RegAddress.AddressLine1', addr.get('address_line_1'))\n",
        "      safe_set(company_data, index, 'RegAddress.AddressLine2', addr.get('address_line_2'))\n",
        "      safe_set(company_data, index, 'RegAddress.PostTown', addr.get('locality'))\n",
        "      safe_set(company_data, index, 'CompanyStatus', details.get('company_status', '').title())\n",
        "      safe_set(company_data, index, 'Accounts.AccountCategory',\n",
        "              last_accounts.get('type', 'NO ACCOUNTS FILED').upper() if last_accounts else 'NO ACCOUNTS FILED')\n",
        "      safe_set(company_data, index, 'RegAddress.County', addr.get('region'))\n",
        "\n",
        "      # Only update CompanyCategory if type is 'ltd'\n",
        "      if details.get('type') == 'ltd':\n",
        "          company_data.loc[index, 'CompanyCategory'] = 'Private Limited Company'\n",
        "\n",
        "      safe_set(company_data, index, 'RegAddress.PostCode', addr.get('postal_code'))\n",
        "      safe_set(company_data, index, 'CountryOfOrigin', addr.get('country'))\n",
        "      safe_set(company_data, index, 'RegAddress.Country', addr.get('country'))\n",
        "      safe_set(company_data, index, 'IncorporationDate', details.get('date_of_creation'))\n",
        "      safe_set(company_data, index, 'Accounts.AccountRefDay', accounts.get('accounting_reference_date', {}).get('day'))\n",
        "      safe_set(company_data, index, 'Accounts.AccountRefMonth', accounts.get('accounting_reference_date', {}).get('month'))\n",
        "      safe_set(company_data, index, 'Accounts.NextDueDate', next_accounts.get('due_on'))\n",
        "      safe_set(company_data, index, 'Accounts.LastMadeUpDate', last_accounts.get('made_up_to'))\n",
        "      safe_set(company_data, index, 'ConfStmtNextDueDate', conf_stmt.get('next_due'))\n",
        "      safe_set(company_data, index, 'ConfStmtLastMadeUpDate', conf_stmt.get('last_made_up_to'))\n",
        "\n",
        "      # Check if ConfStmtLastMadeUpDate is still null then setConfStmtIsfDue is set as true\n",
        "      company_data.loc[index, 'ConfStmtIsfDue'] = pd.isna(company_data.loc[index, 'ConfStmtLastMadeUpDate'])\n",
        "\n",
        "      # Build the URI\n",
        "      self_link = links.get('self')\n",
        "      if self_link:\n",
        "          company_data.loc[index, 'URI'] = f\"http://business.data.gov.uk/id/{self_link}\"\n",
        "\n",
        "      # For previous_company_names\n",
        "      previous_names = details.get('previous_company_names', [])\n",
        "      if previous_names and isinstance(previous_names, list):\n",
        "          for i,obj in enumerate(previous_names):\n",
        "            company_data.loc[index, f'PreviousName_{i+1}.CONDATE'] = previous_names[i].get('ceased_on')\n",
        "            company_data.loc[index, f'PreviousName_{i+1}.CompanyName'] = previous_names[i].get('name')\n",
        "\n",
        "  else:\n",
        "    print(f\"{company_number} record not found\")\n",
        "    company_data.loc[index,'record_found'] = False"
      ]
    },
    {
      "cell_type": "markdown",
      "metadata": {
        "id": "B6QSSYFqzI5e"
      },
      "source": [
        "## Formatting Date Records"
      ]
    },
    {
      "cell_type": "code",
      "execution_count": 71,
      "metadata": {
        "id": "OUfIsFuGzlMa"
      },
      "outputs": [],
      "source": [
        "def convert_column_datatype(column_name):\n",
        "  company_data[column_name] = pd.to_numeric(\n",
        "      company_data[column_name],\n",
        "      downcast='integer',\n",
        "      errors='coerce'\n",
        "  )\n",
        "\n",
        "def date_formatting(columnName):\n",
        "  date1 = pd.to_datetime(company_data[columnName], errors='coerce', format='%d/%m/%Y')\n",
        "  date2 = pd.to_datetime(company_data[columnName], errors='coerce', format='%Y-%m-%d')\n",
        "  date3 = pd.to_datetime(company_data[columnName], errors='coerce', format='%d%m%Y')\n",
        "  company_data[columnName] = date1.fillna(date2).fillna(date3)"
      ]
    },
    {
      "cell_type": "code",
      "execution_count": 72,
      "metadata": {
        "id": "6fCu83m7zIGy"
      },
      "outputs": [],
      "source": [
        "# Formating Date fields to date type\n",
        "date_columns = ['PreviousName_1.CONDATE','PreviousName_2.CONDATE',\n",
        "                'PreviousName_3.CONDATE',\n",
        "                'PreviousName_4.CONDATE',\n",
        "                'PreviousName_5.CONDATE',\n",
        "                'PreviousName_6.CONDATE',\n",
        "                'PreviousName_7.CONDATE',\n",
        "                'PreviousName_8.CONDATE',\n",
        "                'PreviousName_9.CONDATE', 'PreviousName_10.CONDATE',\n",
        "                'ConfStmtNextDueDate','ConfStmtLastMadeUpDate',\n",
        "                'DissolutionDate','IncorporationDate','Accounts.NextDueDate', 'Accounts.LastMadeUpDate', 'Returns.NextDueDate','Returns.LastMadeUpDate']\n",
        "for column in date_columns:\n",
        "  date_formatting(column)\n",
        "\n",
        "column_data_type = {column:'datetime64[ns]' if 'date' in column.lower() else 'string' for column in company_data.columns}\n",
        "column_data_type['ConfStmtIsfDue'] = 'bool'\n",
        "column_data_type['record_found'] = 'bool'\n",
        "company_data = company_data.astype(column_data_type)\n"
      ]
    },
    {
      "cell_type": "code",
      "execution_count": 73,
      "metadata": {
        "colab": {
          "base_uri": "https://localhost:8080/",
          "height": 458
        },
        "id": "lmV8or8rIsgW",
        "outputId": "96c6a6bf-34c0-4628-b696-1d71e674bef7"
      },
      "outputs": [
        {
          "data": {
            "text/plain": [
              "0       True\n",
              "1      False\n",
              "2      False\n",
              "3      False\n",
              "4      False\n",
              "       ...  \n",
              "302    False\n",
              "303    False\n",
              "304     True\n",
              "305     True\n",
              "306    False\n",
              "Name: ConfStmtIsfDue, Length: 307, dtype: bool"
            ]
          },
          "execution_count": 73,
          "metadata": {},
          "output_type": "execute_result"
        }
      ],
      "source": [
        "company_data['ConfStmtIsfDue'].fillna('True')"
      ]
    },
    {
      "cell_type": "code",
      "execution_count": 74,
      "metadata": {
        "id": "TYCKPSV-zi1G"
      },
      "outputs": [],
      "source": [
        "convert_column_datatype('Accounts.AccountRefMonth')\n",
        "convert_column_datatype('Accounts.AccountRefDay')\n",
        "convert_column_datatype('Mortgages.NumMortOutstanding')\n",
        "convert_column_datatype('Mortgages.NumMortCharges')\n",
        "convert_column_datatype('Mortgages.NumMortPartSatisfied')\n",
        "convert_column_datatype('Mortgages.NumMortSatisfied')\n",
        "convert_column_datatype('LimitedPartnerships.NumLimPartners')\n"
      ]
    },
    {
      "cell_type": "code",
      "execution_count": 75,
      "metadata": {
        "colab": {
          "base_uri": "https://localhost:8080/"
        },
        "id": "-cNy_f9CJ53E",
        "outputId": "f1e53f73-cacc-45dc-9ef2-531880429d2c"
      },
      "outputs": [
        {
          "name": "stdout",
          "output_type": "stream",
          "text": [
            "<class 'pandas.core.frame.DataFrame'>\n",
            "RangeIndex: 307 entries, 0 to 306\n",
            "Data columns (total 58 columns):\n",
            " #   Column                              Non-Null Count  Dtype         \n",
            "---  ------                              --------------  -----         \n",
            " 0   CompanyName                         307 non-null    string        \n",
            " 1   CompanyNumber                       307 non-null    string        \n",
            " 2   RegAddress.CareOf                   2 non-null      string        \n",
            " 3   RegAddress.POBox                    4 non-null      string        \n",
            " 4   RegAddress.AddressLine1             307 non-null    string        \n",
            " 5   RegAddress.AddressLine2             196 non-null    string        \n",
            " 6   RegAddress.PostTown                 305 non-null    string        \n",
            " 7   RegAddress.County                   111 non-null    string        \n",
            " 8   RegAddress.Country                  251 non-null    string        \n",
            " 9   RegAddress.PostCode                 305 non-null    string        \n",
            " 10  CompanyCategory                     307 non-null    string        \n",
            " 11  CompanyStatus                       307 non-null    string        \n",
            " 12  CountryOfOrigin                     304 non-null    string        \n",
            " 13  DissolutionDate                     0 non-null      datetime64[ns]\n",
            " 14  IncorporationDate                   306 non-null    datetime64[ns]\n",
            " 15  Accounts.AccountRefDay              303 non-null    Int8          \n",
            " 16  Accounts.AccountRefMonth            303 non-null    Int8          \n",
            " 17  Accounts.NextDueDate                291 non-null    datetime64[ns]\n",
            " 18  Accounts.LastMadeUpDate             237 non-null    datetime64[ns]\n",
            " 19  Accounts.AccountCategory            307 non-null    string        \n",
            " 20  Returns.NextDueDate                 275 non-null    datetime64[ns]\n",
            " 21  Returns.LastMadeUpDate              94 non-null     datetime64[ns]\n",
            " 22  Mortgages.NumMortCharges            305 non-null    Int8          \n",
            " 23  Mortgages.NumMortOutstanding        305 non-null    Int8          \n",
            " 24  Mortgages.NumMortPartSatisfied      306 non-null    Int8          \n",
            " 25  Mortgages.NumMortSatisfied          305 non-null    Int8          \n",
            " 26  SICCode.SicText_1                   304 non-null    string        \n",
            " 27  SICCode.SicText_2                   47 non-null     string        \n",
            " 28  SICCode.SicText_3                   22 non-null     string        \n",
            " 29  SICCode.SicText_4                   13 non-null     string        \n",
            " 30  LimitedPartnerships.NumGenPartners  305 non-null    string        \n",
            " 31  LimitedPartnerships.NumLimPartners  304 non-null    Int8          \n",
            " 32  URI                                 307 non-null    string        \n",
            " 33  PreviousName_1.CONDATE              46 non-null     datetime64[ns]\n",
            " 34  PreviousName_1.CompanyName          47 non-null     string        \n",
            " 35  PreviousName_2.CONDATE              17 non-null     datetime64[ns]\n",
            " 36  PreviousName_2.CompanyName          17 non-null     string        \n",
            " 37  PreviousName_3.CONDATE              3 non-null      datetime64[ns]\n",
            " 38  PreviousName_3.CompanyName          3 non-null      string        \n",
            " 39  PreviousName_4.CONDATE              0 non-null      datetime64[ns]\n",
            " 40  PreviousName_4.CompanyName          0 non-null      string        \n",
            " 41  PreviousName_5.CONDATE              0 non-null      datetime64[ns]\n",
            " 42  PreviousName_5.CompanyName          0 non-null      string        \n",
            " 43  PreviousName_6.CONDATE              0 non-null      datetime64[ns]\n",
            " 44  PreviousName_6.CompanyName          0 non-null      string        \n",
            " 45  PreviousName_7.CONDATE              0 non-null      datetime64[ns]\n",
            " 46  PreviousName_7.CompanyName          0 non-null      string        \n",
            " 47  PreviousName_8.CONDATE              1 non-null      datetime64[ns]\n",
            " 48  PreviousName_8.CompanyName          0 non-null      string        \n",
            " 49  PreviousName_9.CONDATE              0 non-null      datetime64[ns]\n",
            " 50  PreviousName_9.CompanyName          0 non-null      string        \n",
            " 51  PreviousName_10.CONDATE             0 non-null      datetime64[ns]\n",
            " 52  PreviousName_10.CompanyName         1 non-null      string        \n",
            " 53  ConfStmtNextDueDate                 298 non-null    datetime64[ns]\n",
            " 54  ConfStmtLastMadeUpDate              261 non-null    datetime64[ns]\n",
            " 55  CompanyNumberFromURI                304 non-null    string        \n",
            " 56  record_found                        307 non-null    bool          \n",
            " 57  ConfStmtIsfDue                      307 non-null    bool          \n",
            "dtypes: Int8(7), bool(2), datetime64[ns](18), string(31)\n",
            "memory usage: 122.4 KB\n"
          ]
        }
      ],
      "source": [
        "#checking Datatype of columns\n",
        "company_data.info()"
      ]
    },
    {
      "cell_type": "markdown",
      "metadata": {
        "id": "J7arCb530Pjn"
      },
      "source": [
        "## Finding and Handling Duplicates"
      ]
    },
    {
      "cell_type": "code",
      "execution_count": 76,
      "metadata": {
        "colab": {
          "base_uri": "https://localhost:8080/",
          "height": 614
        },
        "id": "zRm9u2Lo0dhN",
        "outputId": "89cb926f-5feb-4af4-d4b3-b2748c40b770"
      },
      "outputs": [
        {
          "data": {
            "text/html": [
              "<div>\n",
              "<style scoped>\n",
              "    .dataframe tbody tr th:only-of-type {\n",
              "        vertical-align: middle;\n",
              "    }\n",
              "\n",
              "    .dataframe tbody tr th {\n",
              "        vertical-align: top;\n",
              "    }\n",
              "\n",
              "    .dataframe thead th {\n",
              "        text-align: right;\n",
              "    }\n",
              "</style>\n",
              "<table border=\"1\" class=\"dataframe\">\n",
              "  <thead>\n",
              "    <tr style=\"text-align: right;\">\n",
              "      <th></th>\n",
              "      <th>duplicates</th>\n",
              "    </tr>\n",
              "    <tr>\n",
              "      <th>CompanyNumber</th>\n",
              "      <th></th>\n",
              "    </tr>\n",
              "  </thead>\n",
              "  <tbody>\n",
              "    <tr>\n",
              "      <th>01477370</th>\n",
              "      <td>2</td>\n",
              "    </tr>\n",
              "    <tr>\n",
              "      <th>04466066</th>\n",
              "      <td>2</td>\n",
              "    </tr>\n",
              "    <tr>\n",
              "      <th>05057638</th>\n",
              "      <td>2</td>\n",
              "    </tr>\n",
              "    <tr>\n",
              "      <th>05717974</th>\n",
              "      <td>2</td>\n",
              "    </tr>\n",
              "    <tr>\n",
              "      <th>06590854</th>\n",
              "      <td>2</td>\n",
              "    </tr>\n",
              "    <tr>\n",
              "      <th>08403564</th>\n",
              "      <td>2</td>\n",
              "    </tr>\n",
              "    <tr>\n",
              "      <th>09084985</th>\n",
              "      <td>2</td>\n",
              "    </tr>\n",
              "    <tr>\n",
              "      <th>10141677</th>\n",
              "      <td>2</td>\n",
              "    </tr>\n",
              "    <tr>\n",
              "      <th>10399598</th>\n",
              "      <td>2</td>\n",
              "    </tr>\n",
              "    <tr>\n",
              "      <th>10899619</th>\n",
              "      <td>2</td>\n",
              "    </tr>\n",
              "    <tr>\n",
              "      <th>11044170</th>\n",
              "      <td>2</td>\n",
              "    </tr>\n",
              "    <tr>\n",
              "      <th>11044404</th>\n",
              "      <td>2</td>\n",
              "    </tr>\n",
              "    <tr>\n",
              "      <th>13067555</th>\n",
              "      <td>2</td>\n",
              "    </tr>\n",
              "    <tr>\n",
              "      <th>15139570</th>\n",
              "      <td>2</td>\n",
              "    </tr>\n",
              "    <tr>\n",
              "      <th>15434683</th>\n",
              "      <td>2</td>\n",
              "    </tr>\n",
              "    <tr>\n",
              "      <th>15733939</th>\n",
              "      <td>2</td>\n",
              "    </tr>\n",
              "    <tr>\n",
              "      <th>SC464056</th>\n",
              "      <td>2</td>\n",
              "    </tr>\n",
              "  </tbody>\n",
              "</table>\n",
              "</div>"
            ],
            "text/plain": [
              "               duplicates\n",
              "CompanyNumber            \n",
              "01477370                2\n",
              "04466066                2\n",
              "05057638                2\n",
              "05717974                2\n",
              "06590854                2\n",
              "08403564                2\n",
              "09084985                2\n",
              "10141677                2\n",
              "10399598                2\n",
              "10899619                2\n",
              "11044170                2\n",
              "11044404                2\n",
              "13067555                2\n",
              "15139570                2\n",
              "15434683                2\n",
              "15733939                2\n",
              "SC464056                2"
            ]
          },
          "execution_count": 76,
          "metadata": {},
          "output_type": "execute_result"
        }
      ],
      "source": [
        "company_records = company_data.groupby('CompanyNumber').agg({'CompanyNumber':'count'}).rename(columns={'CompanyNumber':'duplicates'})\n",
        "company_records[company_records['duplicates']>1]"
      ]
    },
    {
      "cell_type": "code",
      "execution_count": 77,
      "metadata": {
        "id": "sCH6oWo80acs"
      },
      "outputs": [],
      "source": [
        "# removing duplicate rows which has highest Null Values\n",
        "company_data['non_null_count'] = company_data.notna().sum(axis=1)\n",
        "company_data = company_data.sort_values(by=['CompanyNumber', 'non_null_count'], ascending=[True, False])\n",
        "company_data = company_data.drop_duplicates(subset='CompanyNumber', keep='first').reset_index(drop=True)"
      ]
    },
    {
      "cell_type": "markdown",
      "metadata": {
        "id": "w3kr6atyLNUF"
      },
      "source": [
        "#### Following record was not found in Company Data API"
      ]
    },
    {
      "cell_type": "code",
      "execution_count": 78,
      "metadata": {
        "colab": {
          "base_uri": "https://localhost:8080/",
          "height": 147
        },
        "id": "w2HDRisfLDgj",
        "outputId": "0ff31dbc-7069-44fb-9719-c7dd9d141566"
      },
      "outputs": [
        {
          "data": {
            "text/html": [
              "<div>\n",
              "<style scoped>\n",
              "    .dataframe tbody tr th:only-of-type {\n",
              "        vertical-align: middle;\n",
              "    }\n",
              "\n",
              "    .dataframe tbody tr th {\n",
              "        vertical-align: top;\n",
              "    }\n",
              "\n",
              "    .dataframe thead th {\n",
              "        text-align: right;\n",
              "    }\n",
              "</style>\n",
              "<table border=\"1\" class=\"dataframe\">\n",
              "  <thead>\n",
              "    <tr style=\"text-align: right;\">\n",
              "      <th></th>\n",
              "      <th>CompanyName</th>\n",
              "      <th>CompanyNumber</th>\n",
              "      <th>RegAddress.CareOf</th>\n",
              "      <th>RegAddress.POBox</th>\n",
              "      <th>RegAddress.AddressLine1</th>\n",
              "      <th>RegAddress.AddressLine2</th>\n",
              "      <th>RegAddress.PostTown</th>\n",
              "      <th>RegAddress.County</th>\n",
              "      <th>RegAddress.Country</th>\n",
              "      <th>RegAddress.PostCode</th>\n",
              "      <th>...</th>\n",
              "      <th>PreviousName_9.CONDATE</th>\n",
              "      <th>PreviousName_9.CompanyName</th>\n",
              "      <th>PreviousName_10.CONDATE</th>\n",
              "      <th>PreviousName_10.CompanyName</th>\n",
              "      <th>ConfStmtNextDueDate</th>\n",
              "      <th>ConfStmtLastMadeUpDate</th>\n",
              "      <th>CompanyNumberFromURI</th>\n",
              "      <th>record_found</th>\n",
              "      <th>ConfStmtIsfDue</th>\n",
              "      <th>non_null_count</th>\n",
              "    </tr>\n",
              "  </thead>\n",
              "  <tbody>\n",
              "    <tr>\n",
              "      <th>46</th>\n",
              "      <td>Airline 4 Dialogue Ltd</td>\n",
              "      <td>05883574</td>\n",
              "      <td>&lt;NA&gt;</td>\n",
              "      <td>&lt;NA&gt;</td>\n",
              "      <td>6 NORTH STREET</td>\n",
              "      <td>&lt;NA&gt;</td>\n",
              "      <td>Oundle</td>\n",
              "      <td>Peterborough</td>\n",
              "      <td>England</td>\n",
              "      <td>PE8 4AL</td>\n",
              "      <td>...</td>\n",
              "      <td>NaT</td>\n",
              "      <td>&lt;NA&gt;</td>\n",
              "      <td>NaT</td>\n",
              "      <td>&lt;NA&gt;</td>\n",
              "      <td>NaT</td>\n",
              "      <td>NaT</td>\n",
              "      <td>05883574</td>\n",
              "      <td>False</td>\n",
              "      <td>True</td>\n",
              "      <td>25</td>\n",
              "    </tr>\n",
              "  </tbody>\n",
              "</table>\n",
              "<p>1 rows × 59 columns</p>\n",
              "</div>"
            ],
            "text/plain": [
              "               CompanyName CompanyNumber RegAddress.CareOf RegAddress.POBox  \\\n",
              "46  Airline 4 Dialogue Ltd      05883574              <NA>             <NA>   \n",
              "\n",
              "   RegAddress.AddressLine1 RegAddress.AddressLine2 RegAddress.PostTown  \\\n",
              "46          6 NORTH STREET                    <NA>              Oundle   \n",
              "\n",
              "   RegAddress.County RegAddress.Country RegAddress.PostCode  ...  \\\n",
              "46      Peterborough            England             PE8 4AL  ...   \n",
              "\n",
              "   PreviousName_9.CONDATE PreviousName_9.CompanyName PreviousName_10.CONDATE  \\\n",
              "46                    NaT                       <NA>                     NaT   \n",
              "\n",
              "   PreviousName_10.CompanyName ConfStmtNextDueDate  ConfStmtLastMadeUpDate  \\\n",
              "46                        <NA>                 NaT                     NaT   \n",
              "\n",
              "    CompanyNumberFromURI record_found ConfStmtIsfDue non_null_count  \n",
              "46              05883574        False           True             25  \n",
              "\n",
              "[1 rows x 59 columns]"
            ]
          },
          "execution_count": 78,
          "metadata": {},
          "output_type": "execute_result"
        }
      ],
      "source": [
        "company_data[company_data['record_found']==False]"
      ]
    },
    {
      "cell_type": "markdown",
      "metadata": {
        "id": "ANLAqy8u06Wj"
      },
      "source": [
        "## Data Reporting & visualisation"
      ]
    },
    {
      "cell_type": "markdown",
      "metadata": {
        "id": "BV1aGnxTPwag"
      },
      "source": [
        "### Number of Records per each Account Category\n",
        "\n",
        "\n"
      ]
    },
    {
      "cell_type": "code",
      "execution_count": 79,
      "metadata": {
        "colab": {
          "base_uri": "https://localhost:8080/",
          "height": 472
        },
        "id": "HNj1Le7905kx",
        "outputId": "a6283433-820d-48d5-f9b4-4f7704ead646"
      },
      "outputs": [
        {
          "data": {
            "image/png": "[encoded data removed]",
            "text/plain": [
              "<Figure size 640x480 with 1 Axes>"
            ]
          },
          "metadata": {},
          "output_type": "display_data"
        }
      ],
      "source": [
        "category_counts = company_data.groupby('Accounts.AccountCategory').agg({'Accounts.AccountCategory':'count'}).rename(columns= {'Accounts.AccountCategory':'NumberOfRecords'})\n",
        "category_counts.plot(kind='barh')\n",
        "plt.title('Number of Records per Account Category')\n",
        "plt.xlabel('Account Category')\n",
        "plt.ylabel('Number of Records')\n",
        "\n",
        "plt.show()\n"
      ]
    },
    {
      "cell_type": "markdown",
      "metadata": {
        "id": "MXt2lHbuLzmn"
      },
      "source": [
        "#### Finding number of records avaialble for each country"
      ]
    },
    {
      "cell_type": "code",
      "execution_count": 88,
      "metadata": {
        "colab": {
          "base_uri": "https://localhost:8080/",
          "height": 332
        },
        "id": "7untRWDwBg3X",
        "outputId": "55ca5e52-6d21-473f-85d1-db71bbfc9199"
      },
      "outputs": [
        {
          "data": {
            "text/html": [
              "<div>\n",
              "<style scoped>\n",
              "    .dataframe tbody tr th:only-of-type {\n",
              "        vertical-align: middle;\n",
              "    }\n",
              "\n",
              "    .dataframe tbody tr th {\n",
              "        vertical-align: top;\n",
              "    }\n",
              "\n",
              "    .dataframe thead th {\n",
              "        text-align: right;\n",
              "    }\n",
              "</style>\n",
              "<table border=\"1\" class=\"dataframe\">\n",
              "  <thead>\n",
              "    <tr style=\"text-align: right;\">\n",
              "      <th></th>\n",
              "      <th>RegAddress.Country</th>\n",
              "      <th>CompanyNumber</th>\n",
              "    </tr>\n",
              "  </thead>\n",
              "  <tbody>\n",
              "    <tr>\n",
              "      <th>0</th>\n",
              "      <td>England</td>\n",
              "      <td>147</td>\n",
              "    </tr>\n",
              "    <tr>\n",
              "      <th>1</th>\n",
              "      <td>Gibraltar</td>\n",
              "      <td>1</td>\n",
              "    </tr>\n",
              "    <tr>\n",
              "      <th>2</th>\n",
              "      <td>Isle Of Man</td>\n",
              "      <td>1</td>\n",
              "    </tr>\n",
              "    <tr>\n",
              "      <th>3</th>\n",
              "      <td>Northern Ireland</td>\n",
              "      <td>1</td>\n",
              "    </tr>\n",
              "    <tr>\n",
              "      <th>4</th>\n",
              "      <td>Scotland</td>\n",
              "      <td>8</td>\n",
              "    </tr>\n",
              "    <tr>\n",
              "      <th>5</th>\n",
              "      <td>United Kingdom</td>\n",
              "      <td>78</td>\n",
              "    </tr>\n",
              "    <tr>\n",
              "      <th>6</th>\n",
              "      <td>United States</td>\n",
              "      <td>1</td>\n",
              "    </tr>\n",
              "    <tr>\n",
              "      <th>7</th>\n",
              "      <td>Wales</td>\n",
              "      <td>1</td>\n",
              "    </tr>\n",
              "  </tbody>\n",
              "</table>\n",
              "</div>"
            ],
            "text/plain": [
              "  RegAddress.Country  CompanyNumber\n",
              "0            England            147\n",
              "1          Gibraltar              1\n",
              "2        Isle Of Man              1\n",
              "3   Northern Ireland              1\n",
              "4           Scotland              8\n",
              "5     United Kingdom             78\n",
              "6      United States              1\n",
              "7              Wales              1"
            ]
          },
          "execution_count": 88,
          "metadata": {},
          "output_type": "execute_result"
        }
      ],
      "source": [
        "\n",
        "country_wise_company = company_data.groupby(['RegAddress.Country'])['CompanyNumber'].count().reset_index()\n",
        "country_wise_company[:]"
      ]
    },
    {
      "cell_type": "code",
      "execution_count": 82,
      "metadata": {
        "colab": {
          "base_uri": "https://localhost:8080/",
          "height": 428
        },
        "id": "8YC9A2zJ_PX1",
        "outputId": "bbe8986b-a5b8-459a-be03-fb1648b9e350"
      },
      "outputs": [
        {
          "data": {
            "image/png": "[encoded data removed]",
            "text/plain": [
              "<Figure size 640x480 with 1 Axes>"
            ]
          },
          "metadata": {},
          "output_type": "display_data"
        }
      ],
      "source": [
        "\n",
        "wedges, texts = plt.pie(\n",
        "    country_wise_company['CompanyNumber'],\n",
        "    startangle=10\n",
        ")\n",
        "plt.title('Number of Records per Country')\n",
        "\n",
        "plt.legend(wedges, country_wise_company['RegAddress.Country'], title=\"Countries\", loc=\"upper left\")\n",
        "plt.show()"
      ]
    },
    {
      "cell_type": "markdown",
      "metadata": {
        "id": "2iVIJVK8L7cE"
      },
      "source": [
        "#### Number of Records per Country and Account Category"
      ]
    },
    {
      "cell_type": "code",
      "execution_count": 83,
      "metadata": {
        "colab": {
          "base_uri": "https://localhost:8080/",
          "height": 931
        },
        "id": "qUcXlmGv1cun",
        "outputId": "3cb6043c-c526-4202-bc56-2d9c996d7cfd"
      },
      "outputs": [
        {
          "data": {
            "text/plain": [
              "RegAddress.Country  Accounts.AccountCategory  \n",
              "England             DORMANT                       22\n",
              "                    FULL                           3\n",
              "                    MICRO-ENTITY                  49\n",
              "                    NO ACCOUNTS FILED             30\n",
              "                    NULL                           5\n",
              "                    SMALL                          3\n",
              "                    TOTAL-EXEMPTION-FULL          33\n",
              "                    TOTAL-EXEMPTION-SMALL          1\n",
              "                    Total Exemption Full           1\n",
              "Gibraltar           NO ACCOUNTS FILED              1\n",
              "Isle Of Man         NO ACCOUNTS FILED              1\n",
              "Northern Ireland    DORMANT                        1\n",
              "Scotland            NO ACCOUNTS FILED              1\n",
              "                    NULL                           1\n",
              "                    TOTAL-EXEMPTION-FULL           4\n",
              "                    UNAUDITED-ABRIDGED             2\n",
              "United Kingdom      AUDIT-EXEMPTION-SUBSIDIARY     1\n",
              "                    DORMANT                       12\n",
              "                    FULL                           1\n",
              "                    MICRO-ENTITY                  21\n",
              "                    NO ACCOUNTS FILED             19\n",
              "                    NULL                           3\n",
              "                    TOTAL-EXEMPTION-FULL          20\n",
              "                    UNAUDITED-ABRIDGED             1\n",
              "United States       GROUP                          1\n",
              "Wales               MICRO-ENTITY                   1\n",
              "Name: Accounts.AccountCategory, dtype: int64"
            ]
          },
          "execution_count": 83,
          "metadata": {},
          "output_type": "execute_result"
        }
      ],
      "source": [
        "\n",
        "company_data.groupby(['RegAddress.Country','Accounts.AccountCategory'])['Accounts.AccountCategory'].count()"
      ]
    },
    {
      "cell_type": "markdown",
      "metadata": {
        "id": "1KbFA__sMAp-"
      },
      "source": [
        "#### Finding out how many companies in each country has Partially Paid Mortgage, Outstanding Mortgage and Paid Mortgage.\n"
      ]
    },
    {
      "cell_type": "code",
      "execution_count": 84,
      "metadata": {
        "id": "KlUOOSt42k7U"
      },
      "outputs": [],
      "source": [
        "\n",
        "company_status_mortgage = company_data.groupby(['RegAddress.Country','CompanyStatus']).\\\n",
        "            agg({'CompanyNumber':'count',\n",
        "                'Mortgages.NumMortOutstanding':'sum',\n",
        "                'Mortgages.NumMortPartSatisfied':'sum',\n",
        "                'Mortgages.NumMortSatisfied':'sum'})\\\n",
        "          .rename(columns={\n",
        "          'CompanyNumber': 'CompanyCount',\n",
        "          'Mortgages.NumMortOutstanding': 'OutstandingMortgage',\n",
        "          'Mortgages.NumMortPartSatisfied': 'PartSatisfiedMortgage',\n",
        "          'Mortgages.NumMortSatisfied': 'SatisfiedMortgage(Paid Mortgages)'\n",
        "      })"
      ]
    },
    {
      "cell_type": "code",
      "execution_count": 85,
      "metadata": {
        "colab": {
          "base_uri": "https://localhost:8080/",
          "height": 474
        },
        "id": "mJTvGI0NNYD1",
        "outputId": "1b6c0b30-5dda-4468-ef32-3268bc148168"
      },
      "outputs": [
        {
          "data": {
            "text/html": [
              "<div>\n",
              "<style scoped>\n",
              "    .dataframe tbody tr th:only-of-type {\n",
              "        vertical-align: middle;\n",
              "    }\n",
              "\n",
              "    .dataframe tbody tr th {\n",
              "        vertical-align: top;\n",
              "    }\n",
              "\n",
              "    .dataframe thead th {\n",
              "        text-align: right;\n",
              "    }\n",
              "</style>\n",
              "<table border=\"1\" class=\"dataframe\">\n",
              "  <thead>\n",
              "    <tr style=\"text-align: right;\">\n",
              "      <th></th>\n",
              "      <th></th>\n",
              "      <th>CompanyCount</th>\n",
              "      <th>OutstandingMortgage</th>\n",
              "      <th>PartSatisfiedMortgage</th>\n",
              "      <th>SatisfiedMortgage(Paid Mortgages)</th>\n",
              "    </tr>\n",
              "    <tr>\n",
              "      <th>RegAddress.Country</th>\n",
              "      <th>CompanyStatus</th>\n",
              "      <th></th>\n",
              "      <th></th>\n",
              "      <th></th>\n",
              "      <th></th>\n",
              "    </tr>\n",
              "  </thead>\n",
              "  <tbody>\n",
              "    <tr>\n",
              "      <th rowspan=\"3\" valign=\"top\">England</th>\n",
              "      <th>Active</th>\n",
              "      <td>124</td>\n",
              "      <td>48</td>\n",
              "      <td>0</td>\n",
              "      <td>25</td>\n",
              "    </tr>\n",
              "    <tr>\n",
              "      <th>Dissolved</th>\n",
              "      <td>21</td>\n",
              "      <td>11</td>\n",
              "      <td>0</td>\n",
              "      <td>37</td>\n",
              "    </tr>\n",
              "    <tr>\n",
              "      <th>Liquidation</th>\n",
              "      <td>2</td>\n",
              "      <td>1</td>\n",
              "      <td>0</td>\n",
              "      <td>0</td>\n",
              "    </tr>\n",
              "    <tr>\n",
              "      <th>Gibraltar</th>\n",
              "      <th>Registered</th>\n",
              "      <td>1</td>\n",
              "      <td>0</td>\n",
              "      <td>0</td>\n",
              "      <td>0</td>\n",
              "    </tr>\n",
              "    <tr>\n",
              "      <th>Isle Of Man</th>\n",
              "      <th>Registered</th>\n",
              "      <td>1</td>\n",
              "      <td>0</td>\n",
              "      <td>0</td>\n",
              "      <td>0</td>\n",
              "    </tr>\n",
              "    <tr>\n",
              "      <th>Northern Ireland</th>\n",
              "      <th>Active</th>\n",
              "      <td>1</td>\n",
              "      <td>0</td>\n",
              "      <td>0</td>\n",
              "      <td>0</td>\n",
              "    </tr>\n",
              "    <tr>\n",
              "      <th>Scotland</th>\n",
              "      <th>Active</th>\n",
              "      <td>8</td>\n",
              "      <td>1</td>\n",
              "      <td>0</td>\n",
              "      <td>0</td>\n",
              "    </tr>\n",
              "    <tr>\n",
              "      <th rowspan=\"2\" valign=\"top\">United Kingdom</th>\n",
              "      <th>Active</th>\n",
              "      <td>65</td>\n",
              "      <td>21</td>\n",
              "      <td>0</td>\n",
              "      <td>15</td>\n",
              "    </tr>\n",
              "    <tr>\n",
              "      <th>Dissolved</th>\n",
              "      <td>13</td>\n",
              "      <td>0</td>\n",
              "      <td>0</td>\n",
              "      <td>0</td>\n",
              "    </tr>\n",
              "    <tr>\n",
              "      <th>United States</th>\n",
              "      <th>Active</th>\n",
              "      <td>1</td>\n",
              "      <td>0</td>\n",
              "      <td>0</td>\n",
              "      <td>0</td>\n",
              "    </tr>\n",
              "    <tr>\n",
              "      <th>Wales</th>\n",
              "      <th>Active</th>\n",
              "      <td>1</td>\n",
              "      <td>0</td>\n",
              "      <td>0</td>\n",
              "      <td>0</td>\n",
              "    </tr>\n",
              "  </tbody>\n",
              "</table>\n",
              "</div>"
            ],
            "text/plain": [
              "                                  CompanyCount  OutstandingMortgage  \\\n",
              "RegAddress.Country CompanyStatus                                      \n",
              "England            Active                  124                   48   \n",
              "                   Dissolved                21                   11   \n",
              "                   Liquidation               2                    1   \n",
              "Gibraltar          Registered                1                    0   \n",
              "Isle Of Man        Registered                1                    0   \n",
              "Northern Ireland   Active                    1                    0   \n",
              "Scotland           Active                    8                    1   \n",
              "United Kingdom     Active                   65                   21   \n",
              "                   Dissolved                13                    0   \n",
              "United States      Active                    1                    0   \n",
              "Wales              Active                    1                    0   \n",
              "\n",
              "                                  PartSatisfiedMortgage  \\\n",
              "RegAddress.Country CompanyStatus                          \n",
              "England            Active                             0   \n",
              "                   Dissolved                          0   \n",
              "                   Liquidation                        0   \n",
              "Gibraltar          Registered                         0   \n",
              "Isle Of Man        Registered                         0   \n",
              "Northern Ireland   Active                             0   \n",
              "Scotland           Active                             0   \n",
              "United Kingdom     Active                             0   \n",
              "                   Dissolved                          0   \n",
              "United States      Active                             0   \n",
              "Wales              Active                             0   \n",
              "\n",
              "                                  SatisfiedMortgage(Paid Mortgages)  \n",
              "RegAddress.Country CompanyStatus                                     \n",
              "England            Active                                        25  \n",
              "                   Dissolved                                     37  \n",
              "                   Liquidation                                    0  \n",
              "Gibraltar          Registered                                     0  \n",
              "Isle Of Man        Registered                                     0  \n",
              "Northern Ireland   Active                                         0  \n",
              "Scotland           Active                                         0  \n",
              "United Kingdom     Active                                        15  \n",
              "                   Dissolved                                      0  \n",
              "United States      Active                                         0  \n",
              "Wales              Active                                         0  "
            ]
          },
          "execution_count": 85,
          "metadata": {},
          "output_type": "execute_result"
        }
      ],
      "source": [
        "company_status_mortgage"
      ]
    },
    {
      "cell_type": "markdown",
      "metadata": {
        "id": "t8gGPgKLMEj9"
      },
      "source": [
        "#### Finding how many companies has confirmation_statement overdue"
      ]
    },
    {
      "cell_type": "code",
      "execution_count": 86,
      "metadata": {
        "colab": {
          "base_uri": "https://localhost:8080/",
          "height": 178
        },
        "id": "vDAwSO7a3OYr",
        "outputId": "3c565688-0e80-4d09-8df7-4f89e63c37d7"
      },
      "outputs": [
        {
          "data": {
            "text/plain": [
              "ConfStmtIsfDue\n",
              "False    251\n",
              "True      39\n",
              "Name: ConfStmtIsfDue, dtype: int64"
            ]
          },
          "execution_count": 86,
          "metadata": {},
          "output_type": "execute_result"
        }
      ],
      "source": [
        "\n",
        "company_data.groupby(['ConfStmtIsfDue'])['ConfStmtIsfDue'].count()"
      ]
    },
    {
      "cell_type": "code",
      "execution_count": 90,
      "metadata": {
        "id": "oFVWI9UBCPXi"
      },
      "outputs": [],
      "source": [
        "company_data.to_csv('Cleaned_company_data.csv')"
      ]
    }
  ],
  "metadata": {
    "colab": {
      "provenance": []
    },
    "kernelspec": {
      "display_name": "Python 3.12.8 64-bit (microsoft store)",
      "language": "python",
      "name": "python3"
    },
    "language_info": {
      "codemirror_mode": {
        "name": "ipython",
        "version": 3
      },
      "file_extension": ".py",
      "mimetype": "text/x-python",
      "name": "python",
      "nbconvert_exporter": "python",
      "pygments_lexer": "ipython3",
      "version": "3.12.10"
    },
    "vscode": {
      "interpreter": {
        "hash": "652e728136233aaac7f9400187a17339b6beabe9a08ac870dd4e4ae96465eeba"
      }
    }
  },
  "nbformat": 4,
  "nbformat_minor": 0
}
